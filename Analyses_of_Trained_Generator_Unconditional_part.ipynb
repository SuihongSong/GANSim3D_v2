{
 "cells": [
  {
   "cell_type": "code",
   "execution_count": 35,
   "metadata": {
    "colab": {},
    "colab_type": "code",
    "collapsed": true,
    "id": "8jgUsEadetYM",
    "scrolled": false
   },
   "outputs": [],
   "source": [
    "import sys\n",
    "import pickle\n",
    "import numpy as np\n",
    "import tensorflow.compat.v1 as tf\n",
    "# tf.disable_v2_behavior()  # if not use with this line, \"AttributeError: 'int' object has no attribute 'value'\" \n",
    "# tf.disable_eager_execution()\n",
    "import PIL.Image\n",
    "%matplotlib inline\n",
    "import matplotlib.pyplot as plt"
   ]
  },
  {
   "cell_type": "code",
   "execution_count": 36,
   "metadata": {
    "scrolled": true
   },
   "outputs": [
    {
     "name": "stdout",
     "output_type": "stream",
     "text": [
      "Num GPUs Available:  1\n"
     ]
    }
   ],
   "source": [
    "print(\"Num GPUs Available: \", len(tf.config.list_physical_devices('GPU')))"
   ]
  },
  {
   "cell_type": "markdown",
   "metadata": {},
   "source": [
    "##### Set the path to directory containing code of this case"
   ]
  },
  {
   "cell_type": "code",
   "execution_count": 37,
   "metadata": {
    "collapsed": true
   },
   "outputs": [],
   "source": [
    "new_path = r'/home/users/suihong/10-SubwaterFansChannels/3-3DGANSim_v2_1/' \n",
    "sys.path.append(new_path)"
   ]
  },
  {
   "cell_type": "markdown",
   "metadata": {},
   "source": [
    "#### Set the path to data directory; this directory includes two datasets: \"trainingdata\" and \"testdata\""
   ]
  },
  {
   "cell_type": "code",
   "execution_count": 38,
   "metadata": {
    "collapsed": true
   },
   "outputs": [],
   "source": [
    "data_dir_test = '/scratch/users/suihong/SubwaterFan/DatasetsforGAN_freq_3D_128x128x32/'"
   ]
  },
  {
   "cell_type": "markdown",
   "metadata": {},
   "source": [
    "#### Set path to trained network"
   ]
  },
  {
   "cell_type": "code",
   "execution_count": 7,
   "metadata": {
    "collapsed": true
   },
   "outputs": [],
   "source": [
    "# 19200 means totally 19200 thousand training images (facies models) used for the training\n",
    "network_dir = '/scratch/users/suihong/SubwaterFan/TrainedModels/009-pgan3D128x128x32_4gpu_follow007/'# '/scratch/users/suihong/SubwaterFan/TrainedModels/001-pgan3D128x128x32_4gpu/'\n",
    "network_name = 'network-snapshot-008868.pkl' # 'network-snapshot-003362.pkl'"
   ]
  },
  {
   "cell_type": "markdown",
   "metadata": {},
   "source": [
    "### 1. Fetch dataset"
   ]
  },
  {
   "cell_type": "code",
   "execution_count": null,
   "metadata": {
    "collapsed": true,
    "scrolled": true
   },
   "outputs": [],
   "source": [
    "# Initialize TensorFlow session.\n",
    "tf.InteractiveSession()\n",
    "\n",
    "import dataset\n",
    "\n",
    "test_set = dataset.load_dataset(data_dir=data_dir_test, verbose=True, tfrecord_dir='TestData', \n",
    "                                cond_label = True, cond_well = True, cond_prob = True,\n",
    "                                labeltypes = [], well_enlarge = False, shuffle_mb = 0, prefetch_mb = 0)\n",
    "\n",
    "# labels are from -1 to 1\n",
    "cubeorlabel_dict = test_set.get_minibatch_cubeorlabel_np(minibatch_size = 30, lod = 0)  \n",
    "realcubes_test = cubeorlabel_dict['real']\n",
    "labels_test = cubeorlabel_dict['label']\n",
    "proborwell_dict = test_set.get_minibatch_proborwell_np(minibatch_size = 30, lod = 0)\n",
    "probcubes_test = proborwell_dict['prob']\n",
    "wellfaciescubes_test = proborwell_dict['well']\n",
    "# To get original well facies data (before enlargement)\n",
    "#test_set_1 = dataset.load_dataset(data_dir=data_dir_test, verbose=True, tfrecord_dir='TestData', labeltypes = [], well_enlarge = False, shuffle_mb = 0, prefetch_mb = 0)\n",
    "#_, wellfacies_test_org = test_set_1.get_minibatch_probandwell_np(2695*8)"
   ]
  },
  {
   "cell_type": "code",
   "execution_count": 39,
   "metadata": {
    "scrolled": false
   },
   "outputs": [
    {
     "name": "stdout",
     "output_type": "stream",
     "text": [
      "(30, 1, 128, 128, 32)\n",
      "(30, 0)\n",
      "(30, 0, 128, 128, 32)\n",
      "(30, 0, 128, 128, 32)\n"
     ]
    }
   ],
   "source": [
    "print(realcubes_test.shape)\n",
    "print(labels_test.shape)\n",
    "print(probcubes_test.shape)\n",
    "print(wellfaciescubes_test.shape)"
   ]
  },
  {
   "cell_type": "code",
   "execution_count": 41,
   "metadata": {
    "scrolled": true
   },
   "outputs": [
    {
     "data": {
      "text/plain": [
       "(array([10822045.,        0.,        0.,        0.,        0.,        0.,\n",
       "               0.,        0.,        0.,        0.,        0.,        0.,\n",
       "               0.,        0.,        0.,  1546968.,        0.,        0.,\n",
       "               0.,        0.,        0.,        0.,        0.,        0.,\n",
       "               0.,        0.,        0.,        0.,        0.,  3359627.]),\n",
       " array([0.        , 0.06666667, 0.13333333, 0.2       , 0.26666667,\n",
       "        0.33333333, 0.4       , 0.46666667, 0.53333333, 0.6       ,\n",
       "        0.66666667, 0.73333333, 0.8       , 0.86666667, 0.93333333,\n",
       "        1.        , 1.06666667, 1.13333333, 1.2       , 1.26666667,\n",
       "        1.33333333, 1.4       , 1.46666667, 1.53333333, 1.6       ,\n",
       "        1.66666667, 1.73333333, 1.8       , 1.86666667, 1.93333333,\n",
       "        2.        ]),\n",
       " <a list of 30 Patch objects>)"
      ]
     },
     "execution_count": 41,
     "metadata": {},
     "output_type": "execute_result"
    },
    {
     "data": {
      "image/png": "[encoded data removed]",
      "text/plain": [
       "<Figure size 432x288 with 1 Axes>"
      ]
     },
     "metadata": {},
     "output_type": "display_data"
    }
   ],
   "source": [
    "plt.hist(realcubes_test.reshape(-1), bins = 30)"
   ]
  },
  {
   "cell_type": "code",
   "execution_count": null,
   "metadata": {
    "collapsed": true
   },
   "outputs": [],
   "source": []
  },
  {
   "cell_type": "markdown",
   "metadata": {},
   "source": [
    "Training facies models of 128x128x32"
   ]
  },
  {
   "cell_type": "code",
   "execution_count": 14,
   "metadata": {
    "scrolled": false
   },
   "outputs": [
    {
     "data": {
      "image/png": "[encoded data removed]",
      "text/plain": [
       "<Figure size 1296x576 with 18 Axes>"
      ]
     },
     "metadata": {},
     "output_type": "display_data"
    }
   ],
   "source": [
    "# Create a figure with 6 plot areas\n",
    "fig, axes = plt.subplots(ncols=6, nrows=3, sharex='col', sharey='row')\n",
    "fig.set_size_inches(18, 8, forward=True)\n",
    "\n",
    "for i in range(6):\n",
    "    axes[0, i].imshow(realcubes_test[i, 0, :,:,int(realcubes_test.shape[-1]/2)])\n",
    "    axes[1, i].imshow(np.transpose(realcubes_test[i, 0, int(realcubes_test.shape[-1]/2), :, :], axes=[1, 0]))\n",
    "    axes[2, i].imshow(np.transpose(realcubes_test[i, 0, :,int(realcubes_test.shape[-1]/2), :], axes=[1, 0]))  "
   ]
  },
  {
   "cell_type": "markdown",
   "metadata": {},
   "source": [
    "Training facies models of 64x64x16"
   ]
  },
  {
   "cell_type": "code",
   "execution_count": 15,
   "metadata": {
    "collapsed": true
   },
   "outputs": [],
   "source": [
    "# labels are from -1 to 1\n",
    "cubeorlabel_dict = test_set.get_minibatch_cubeorlabel_np(minibatch_size = 30, lod = 1)  \n",
    "realcubes_test = cubeorlabel_dict['real']\n",
    "labels_test = cubeorlabel_dict['label']\n",
    "proborwell_dict = test_set.get_minibatch_proborwell_np(minibatch_size = 30, lod = 1)\n",
    "probcubes_test = proborwell_dict['prob']\n",
    "wellfaciescubes_test = proborwell_dict['well']"
   ]
  },
  {
   "cell_type": "code",
   "execution_count": 16,
   "metadata": {
    "scrolled": false
   },
   "outputs": [
    {
     "name": "stdout",
     "output_type": "stream",
     "text": [
      "(30, 1, 64, 64, 16)\n",
      "(30, 0)\n",
      "(30, 1, 128, 128, 32)\n",
      "(30, 1, 128, 128, 32)\n"
     ]
    }
   ],
   "source": [
    "print(realcubes_test.shape)\n",
    "print(labels_test.shape)\n",
    "print(probcubes_test.shape)\n",
    "print(wellfaciescubes_test.shape)"
   ]
  },
  {
   "cell_type": "code",
   "execution_count": 17,
   "metadata": {
    "scrolled": false
   },
   "outputs": [
    {
     "data": {
      "image/png": "[encoded data removed]",
      "text/plain": [
       "<Figure size 1296x576 with 18 Axes>"
      ]
     },
     "metadata": {},
     "output_type": "display_data"
    }
   ],
   "source": [
    "# Create a figure with 6 plot areas\n",
    "fig, axes = plt.subplots(ncols=6, nrows=3, sharex='col', sharey='row')\n",
    "fig.set_size_inches(18, 8, forward=True)\n",
    "\n",
    "for i in range(6):\n",
    "    axes[0, i].imshow(realcubes_test[i, 0, :,:,int(realcubes_test.shape[-1]/2)])\n",
    "    axes[1, i].imshow(np.transpose(realcubes_test[i, 0, int(realcubes_test.shape[-1]/2), :, :], axes=[1, 0]))\n",
    "    axes[2, i].imshow(np.transpose(realcubes_test[i, 0, :,int(realcubes_test.shape[-1]/2), :], axes=[1, 0]))  "
   ]
  },
  {
   "cell_type": "markdown",
   "metadata": {},
   "source": [
    "Training facies models of 32x32x8"
   ]
  },
  {
   "cell_type": "code",
   "execution_count": 18,
   "metadata": {
    "collapsed": true
   },
   "outputs": [],
   "source": [
    "# labels are from -1 to 1\n",
    "cubeorlabel_dict = test_set.get_minibatch_cubeorlabel_np(minibatch_size = 30, lod = 2)  \n",
    "realcubes_test = cubeorlabel_dict['real']\n",
    "labels_test = cubeorlabel_dict['label']\n",
    "proborwell_dict = test_set.get_minibatch_proborwell_np(minibatch_size = 30, lod = 2)\n",
    "probcubes_test = proborwell_dict['prob']\n",
    "wellfaciescubes_test = proborwell_dict['well']"
   ]
  },
  {
   "cell_type": "code",
   "execution_count": 19,
   "metadata": {
    "scrolled": false
   },
   "outputs": [
    {
     "name": "stdout",
     "output_type": "stream",
     "text": [
      "(30, 1, 32, 32, 8)\n",
      "(30, 0)\n",
      "(30, 1, 128, 128, 32)\n",
      "(30, 1, 128, 128, 32)\n"
     ]
    }
   ],
   "source": [
    "print(realcubes_test.shape)\n",
    "print(labels_test.shape)\n",
    "print(probcubes_test.shape)\n",
    "print(wellfaciescubes_test.shape)"
   ]
  },
  {
   "cell_type": "code",
   "execution_count": 20,
   "metadata": {
    "scrolled": false
   },
   "outputs": [
    {
     "data": {
      "image/png": "[encoded data removed]",
      "text/plain": [
       "<Figure size 1296x576 with 18 Axes>"
      ]
     },
     "metadata": {},
     "output_type": "display_data"
    }
   ],
   "source": [
    "# Create a figure with 6 plot areas\n",
    "fig, axes = plt.subplots(ncols=6, nrows=3, sharex='col', sharey='row')\n",
    "fig.set_size_inches(18, 8, forward=True)\n",
    "\n",
    "for i in range(6):\n",
    "    axes[0, i].imshow(realcubes_test[i, 0, :,:,int(realcubes_test.shape[-1]/2)])\n",
    "    axes[1, i].imshow(np.transpose(realcubes_test[i, 0, int(realcubes_test.shape[-1]/2), :, :], axes=[1, 0]))\n",
    "    axes[2, i].imshow(np.transpose(realcubes_test[i, 0, :,int(realcubes_test.shape[-1]/2), :], axes=[1, 0]))  "
   ]
  },
  {
   "cell_type": "markdown",
   "metadata": {},
   "source": [
    "Training facies models of 16x16x4"
   ]
  },
  {
   "cell_type": "code",
   "execution_count": 21,
   "metadata": {
    "collapsed": true
   },
   "outputs": [],
   "source": [
    "# labels are from -1 to 1\n",
    "cubeorlabel_dict = test_set.get_minibatch_cubeorlabel_np(minibatch_size = 30, lod = 3)  \n",
    "realcubes_test = cubeorlabel_dict['real']\n",
    "labels_test = cubeorlabel_dict['label']\n",
    "proborwell_dict = test_set.get_minibatch_proborwell_np(minibatch_size = 30, lod = 3)\n",
    "probcubes_test = proborwell_dict['prob']\n",
    "wellfaciescubes_test = proborwell_dict['well']"
   ]
  },
  {
   "cell_type": "code",
   "execution_count": 22,
   "metadata": {
    "scrolled": false
   },
   "outputs": [
    {
     "name": "stdout",
     "output_type": "stream",
     "text": [
      "(30, 1, 16, 16, 4)\n",
      "(30, 0)\n",
      "(30, 1, 128, 128, 32)\n",
      "(30, 1, 128, 128, 32)\n"
     ]
    }
   ],
   "source": [
    "print(realcubes_test.shape)\n",
    "print(labels_test.shape)\n",
    "print(probcubes_test.shape)\n",
    "print(wellfaciescubes_test.shape)"
   ]
  },
  {
   "cell_type": "code",
   "execution_count": 23,
   "metadata": {
    "scrolled": false
   },
   "outputs": [
    {
     "data": {
      "image/png": "[encoded data removed]",
      "text/plain": [
       "<Figure size 1296x576 with 18 Axes>"
      ]
     },
     "metadata": {},
     "output_type": "display_data"
    }
   ],
   "source": [
    "# Create a figure with 6 plot areas\n",
    "fig, axes = plt.subplots(ncols=6, nrows=3, sharex='col', sharey='row')\n",
    "fig.set_size_inches(18, 8, forward=True)\n",
    "\n",
    "for i in range(6):\n",
    "    axes[0, i].imshow(realcubes_test[i, 0, :,:,int(realcubes_test.shape[-1]/2)])\n",
    "    axes[1, i].imshow(np.transpose(realcubes_test[i, 0, int(realcubes_test.shape[-1]/2), :, :], axes=[1, 0]))\n",
    "    axes[2, i].imshow(np.transpose(realcubes_test[i, 0, :,int(realcubes_test.shape[-1]/2), :], axes=[1, 0]))  "
   ]
  },
  {
   "cell_type": "markdown",
   "metadata": {},
   "source": [
    "Training facies models of 8x8x4"
   ]
  },
  {
   "cell_type": "code",
   "execution_count": 24,
   "metadata": {
    "collapsed": true
   },
   "outputs": [],
   "source": [
    "# labels are from -1 to 1\n",
    "cubeorlabel_dict = test_set.get_minibatch_cubeorlabel_np(minibatch_size = 30, lod = 4)  \n",
    "realcubes_test = cubeorlabel_dict['real']\n",
    "labels_test = cubeorlabel_dict['label']\n",
    "proborwell_dict = test_set.get_minibatch_proborwell_np(minibatch_size = 30, lod = 4)\n",
    "probcubes_test = proborwell_dict['prob']\n",
    "wellfaciescubes_test = proborwell_dict['well']"
   ]
  },
  {
   "cell_type": "code",
   "execution_count": 25,
   "metadata": {
    "scrolled": false
   },
   "outputs": [
    {
     "name": "stdout",
     "output_type": "stream",
     "text": [
      "(30, 1, 8, 8, 4)\n",
      "(30, 0)\n",
      "(30, 1, 128, 128, 32)\n",
      "(30, 1, 128, 128, 32)\n"
     ]
    }
   ],
   "source": [
    "print(realcubes_test.shape)\n",
    "print(labels_test.shape)\n",
    "print(probcubes_test.shape)\n",
    "print(wellfaciescubes_test.shape)"
   ]
  },
  {
   "cell_type": "code",
   "execution_count": 26,
   "metadata": {
    "scrolled": false
   },
   "outputs": [
    {
     "data": {
      "image/png": "[encoded data removed]",
      "text/plain": [
       "<Figure size 1296x576 with 18 Axes>"
      ]
     },
     "metadata": {},
     "output_type": "display_data"
    }
   ],
   "source": [
    "# Create a figure with 6 plot areas\n",
    "fig, axes = plt.subplots(ncols=6, nrows=3, sharex='col', sharey='row')\n",
    "fig.set_size_inches(18, 8, forward=True)\n",
    "\n",
    "for i in range(6):\n",
    "    axes[0, i].imshow(realcubes_test[i, 0, :,:,int(realcubes_test.shape[-1]/2)])\n",
    "    axes[1, i].imshow(np.transpose(realcubes_test[i, 0, int(realcubes_test.shape[-1]/2), :, :], axes=[1, 0]))\n",
    "    axes[2, i].imshow(np.transpose(realcubes_test[i, 0, :,int(realcubes_test.shape[-1]/2), :], axes=[1, 0]))  "
   ]
  },
  {
   "cell_type": "markdown",
   "metadata": {},
   "source": [
    "Training facies models of 4x4x4"
   ]
  },
  {
   "cell_type": "code",
   "execution_count": 27,
   "metadata": {
    "collapsed": true
   },
   "outputs": [],
   "source": [
    "# labels are from -1 to 1\n",
    "cubeorlabel_dict = test_set.get_minibatch_cubeorlabel_np(minibatch_size = 30, lod = 5)  \n",
    "realcubes_test = cubeorlabel_dict['real']\n",
    "labels_test = cubeorlabel_dict['label']\n",
    "proborwell_dict = test_set.get_minibatch_proborwell_np(minibatch_size = 30, lod = 4)\n",
    "probcubes_test = proborwell_dict['prob']\n",
    "wellfaciescubes_test = proborwell_dict['well']"
   ]
  },
  {
   "cell_type": "code",
   "execution_count": 28,
   "metadata": {
    "scrolled": false
   },
   "outputs": [
    {
     "name": "stdout",
     "output_type": "stream",
     "text": [
      "(30, 1, 4, 4, 4)\n",
      "(30, 0)\n",
      "(30, 1, 128, 128, 32)\n",
      "(30, 1, 128, 128, 32)\n"
     ]
    }
   ],
   "source": [
    "print(realcubes_test.shape)\n",
    "print(labels_test.shape)\n",
    "print(probcubes_test.shape)\n",
    "print(wellfaciescubes_test.shape)"
   ]
  },
  {
   "cell_type": "code",
   "execution_count": 29,
   "metadata": {
    "scrolled": false
   },
   "outputs": [
    {
     "data": {
      "image/png": "[encoded data removed]",
      "text/plain": [
       "<Figure size 1296x576 with 18 Axes>"
      ]
     },
     "metadata": {},
     "output_type": "display_data"
    }
   ],
   "source": [
    "# Create a figure with 6 plot areas\n",
    "fig, axes = plt.subplots(ncols=6, nrows=3, sharex='col', sharey='row')\n",
    "fig.set_size_inches(18, 8, forward=True)\n",
    "\n",
    "for i in range(6):\n",
    "    axes[0, i].imshow(realcubes_test[i, 0, :,:,int(realcubes_test.shape[-1]/2)])\n",
    "    axes[1, i].imshow(np.transpose(realcubes_test[i, 0, int(realcubes_test.shape[-1]/2), :, :], axes=[1, 0]))\n",
    "    axes[2, i].imshow(np.transpose(realcubes_test[i, 0, :,int(realcubes_test.shape[-1]/2), :], axes=[1, 0]))  "
   ]
  },
  {
   "cell_type": "code",
   "execution_count": null,
   "metadata": {
    "collapsed": true
   },
   "outputs": [],
   "source": []
  },
  {
   "cell_type": "markdown",
   "metadata": {},
   "source": [
    "### 2. Import pre-trained Network"
   ]
  },
  {
   "cell_type": "code",
   "execution_count": 9,
   "metadata": {
    "scrolled": false
   },
   "outputs": [
    {
     "name": "stderr",
     "output_type": "stream",
     "text": [
      "/share/software/user/open/py-tensorflow/2.6.2_py36/lib/python3.6/site-packages/tensorflow/python/client/session.py:1766: UserWarning: An interactive session is already active. This can cause out-of-memory errors in some cases. You must explicitly call `InteractiveSession.close()` to release resources held by the other session(s).\n",
      "  warnings.warn('An interactive session is already active. This can '\n"
     ]
    }
   ],
   "source": [
    "# Initialize TensorFlow session.\n",
    "tf.InteractiveSession()\n",
    "\n",
    "# Import networks.\n",
    "with open(network_dir+network_name, 'rb') as file:\n",
    "    G, D, Gs = pickle.load(file)\n",
    "    \n",
    "del G"
   ]
  },
  {
   "cell_type": "code",
   "execution_count": 11,
   "metadata": {
    "scrolled": false
   },
   "outputs": [
    {
     "name": "stdout",
     "output_type": "stream",
     "text": [
      "[[None, 8, 4, 4, 4], [None, 0, 4, 4, 4], [None, 0, 128, 128, 32], [None, 0, 128, 128, 32]]\n"
     ]
    }
   ],
   "source": [
    "print(Gs.input_shapes)"
   ]
  },
  {
   "cell_type": "code",
   "execution_count": 12,
   "metadata": {},
   "outputs": [
    {
     "name": "stdout",
     "output_type": "stream",
     "text": [
      "(30, 1, 128, 128, 32)\n",
      "(30, 0)\n",
      "(30, 0, 128, 128, 32)\n",
      "(30, 0, 128, 128, 32)\n"
     ]
    }
   ],
   "source": [
    "labels_test = np.zeros((labels_test.shape[0], 0))\n",
    "probcubes_test = np.zeros((probcubes_test.shape[0], 0, probcubes_test.shape[2], probcubes_test.shape[3], probcubes_test.shape[4]))\n",
    "wellfaciescubes_test = np.zeros((wellfaciescubes_test.shape[0], 0, wellfaciescubes_test.shape[2], \\\n",
    "                                 wellfaciescubes_test.shape[3], wellfaciescubes_test.shape[4]))\n",
    "\n",
    "print(realcubes_test.shape)\n",
    "print(labels_test.shape)\n",
    "print(probcubes_test.shape)\n",
    "print(wellfaciescubes_test.shape)"
   ]
  },
  {
   "cell_type": "code",
   "execution_count": null,
   "metadata": {
    "collapsed": true
   },
   "outputs": [],
   "source": []
  },
  {
   "cell_type": "markdown",
   "metadata": {},
   "source": [
    "### 3. Evaluation on 128x128x32 synthetic cases"
   ]
  },
  {
   "cell_type": "code",
   "execution_count": 13,
   "metadata": {
    "scrolled": true
   },
   "outputs": [
    {
     "name": "stdout",
     "output_type": "stream",
     "text": [
      "[[None, 8, 4, 4, 4], [None, 0, 4, 4, 4], [None, 0, 128, 128, 32], [None, 0, 128, 128, 32]]\n"
     ]
    }
   ],
   "source": [
    "print(Gs.input_shapes)"
   ]
  },
  {
   "cell_type": "code",
   "execution_count": 14,
   "metadata": {
    "collapsed": true
   },
   "outputs": [],
   "source": [
    "TotalReal_no = 400\n",
    "allfakemodels = np.zeros([TotalReal_no, 1, 128, 128, 32])\n",
    "latents = np.random.RandomState(412).randn(TotalReal_no, 8, 4, 4, 4)   #\n",
    "\n",
    "for i in range(int(TotalReal_no/10)):\n",
    "    latents1 = latents[i*10:(i+1)*10]\n",
    "    synlabel_mult = np.zeros((10, 0, 4, 4, 4))\n",
    "    syn_wellfacies_input1_el_mult = np.zeros((10, 0, 128, 128, 32)) \n",
    "    synprob1_mult = np.zeros((10, 0, 128, 128, 32)) \n",
    "    fakemodels = Gs.run(latents1, synlabel_mult, syn_wellfacies_input1_el_mult, synprob1_mult)\n",
    "    fakemodels = np.where(fakemodels< -0.2, -1, np.where(fakemodels > 0.2, 1, 0))\n",
    "    allfakemodels[i*10:(i+1)*10] = fakemodels"
   ]
  },
  {
   "cell_type": "code",
   "execution_count": 34,
   "metadata": {},
   "outputs": [
    {
     "data": {
      "text/plain": [
       "(array([1.45042766e+08, 0.00000000e+00, 0.00000000e+00, 0.00000000e+00,\n",
       "        0.00000000e+00, 0.00000000e+00, 0.00000000e+00, 0.00000000e+00,\n",
       "        0.00000000e+00, 0.00000000e+00, 0.00000000e+00, 0.00000000e+00,\n",
       "        0.00000000e+00, 0.00000000e+00, 0.00000000e+00, 1.92344600e+07,\n",
       "        0.00000000e+00, 0.00000000e+00, 0.00000000e+00, 0.00000000e+00,\n",
       "        0.00000000e+00, 0.00000000e+00, 0.00000000e+00, 0.00000000e+00,\n",
       "        0.00000000e+00, 0.00000000e+00, 0.00000000e+00, 0.00000000e+00,\n",
       "        0.00000000e+00, 4.54379740e+07]),\n",
       " array([-1.        , -0.93333333, -0.86666667, -0.8       , -0.73333333,\n",
       "        -0.66666667, -0.6       , -0.53333333, -0.46666667, -0.4       ,\n",
       "        -0.33333333, -0.26666667, -0.2       , -0.13333333, -0.06666667,\n",
       "         0.        ,  0.06666667,  0.13333333,  0.2       ,  0.26666667,\n",
       "         0.33333333,  0.4       ,  0.46666667,  0.53333333,  0.6       ,\n",
       "         0.66666667,  0.73333333,  0.8       ,  0.86666667,  0.93333333,\n",
       "         1.        ]),\n",
       " <a list of 30 Patch objects>)"
      ]
     },
     "execution_count": 34,
     "metadata": {},
     "output_type": "execute_result"
    },
    {
     "data": {
      "image/png": "[encoded data removed]",
      "text/plain": [
       "<Figure size 432x288 with 1 Axes>"
      ]
     },
     "metadata": {},
     "output_type": "display_data"
    }
   ],
   "source": [
    "plt.hist(allfakemodels.reshape(-1), bins = 30)"
   ]
  },
  {
   "cell_type": "code",
   "execution_count": 16,
   "metadata": {
    "scrolled": true
   },
   "outputs": [
    {
     "name": "stdout",
     "output_type": "stream",
     "text": [
      "(400, 1, 128, 128, 32)\n"
     ]
    }
   ],
   "source": [
    "print(allfakemodels.shape)"
   ]
  },
  {
   "cell_type": "code",
   "execution_count": 17,
   "metadata": {
    "collapsed": true,
    "scrolled": true
   },
   "outputs": [],
   "source": [
    "TotalReal_no = 400\n",
    "scores = np.zeros(TotalReal_no)\n",
    "for i in range(int(TotalReal_no/4)):\n",
    "    scores[i*4:(i+1)*4] = D.run(allfakemodels[i*4:(i+1)*4])[0][:,0]\n",
    "    \n",
    "score_ind = np.argsort(scores)"
   ]
  },
  {
   "cell_type": "code",
   "execution_count": 23,
   "metadata": {},
   "outputs": [
    {
     "data": {
      "text/plain": [
       "(array([  1.,   4.,  16.,  44.,  97., 120.,  75.,  30.,   8.,   5.]),\n",
       " array([-1399.23364258, -1239.29555206, -1079.35746155,  -919.41937103,\n",
       "         -759.48128052,  -599.54319   ,  -439.60509949,  -279.66700897,\n",
       "         -119.72891846,    40.20917206,   200.14726257]),\n",
       " <a list of 10 Patch objects>)"
      ]
     },
     "execution_count": 23,
     "metadata": {},
     "output_type": "execute_result"
    },
    {
     "data": {
      "image/png": "[encoded data removed]",
      "text/plain": [
       "<Figure size 432x288 with 1 Axes>"
      ]
     },
     "metadata": {},
     "output_type": "display_data"
    }
   ],
   "source": [
    "plt.hist(scores.reshape(-1))"
   ]
  },
  {
   "cell_type": "code",
   "execution_count": 22,
   "metadata": {
    "scrolled": true
   },
   "outputs": [
    {
     "data": {
      "text/plain": [
       "<matplotlib.colorbar.Colorbar at 0x7f30837aa7b8>"
      ]
     },
     "execution_count": 22,
     "metadata": {},
     "output_type": "execute_result"
    },
    {
     "data": {
      "image/png": "[encoded data removed]",
      "text/plain": [
       "<Figure size 432x288 with 2 Axes>"
      ]
     },
     "metadata": {},
     "output_type": "display_data"
    }
   ],
   "source": [
    "plt.imshow(allfakemodels[score_ind[-5],0, :,:,16])\n",
    "plt.colorbar()"
   ]
  },
  {
   "cell_type": "code",
   "execution_count": 19,
   "metadata": {},
   "outputs": [
    {
     "data": {
      "text/plain": [
       "<matplotlib.colorbar.Colorbar at 0x7f30ed5d8ac8>"
      ]
     },
     "execution_count": 19,
     "metadata": {},
     "output_type": "execute_result"
    },
    {
     "data": {
      "image/png": "[encoded data removed]",
      "text/plain": [
       "<Figure size 432x288 with 2 Axes>"
      ]
     },
     "metadata": {},
     "output_type": "display_data"
    }
   ],
   "source": [
    "plt.imshow(np.transpose(allfakemodels[score_ind[-1],0, 64,:,:], axes=[1, 0]))\n",
    "plt.colorbar()"
   ]
  },
  {
   "cell_type": "code",
   "execution_count": 20,
   "metadata": {
    "scrolled": true
   },
   "outputs": [
    {
     "data": {
      "text/plain": [
       "<matplotlib.colorbar.Colorbar at 0x7f30ed509320>"
      ]
     },
     "execution_count": 20,
     "metadata": {},
     "output_type": "execute_result"
    },
    {
     "data": {
      "image/png": "[encoded data removed]",
      "text/plain": [
       "<Figure size 432x288 with 2 Axes>"
      ]
     },
     "metadata": {},
     "output_type": "display_data"
    }
   ],
   "source": [
    "plt.imshow(np.transpose(allfakemodels[score_ind[-1],0, :,64,:], axes=[1, 0]))\n",
    "plt.colorbar()"
   ]
  },
  {
   "cell_type": "code",
   "execution_count": 24,
   "metadata": {},
   "outputs": [
    {
     "data": {
      "image/png": "[encoded data removed]",
      "text/plain": [
       "<Figure size 1296x576 with 18 Axes>"
      ]
     },
     "metadata": {},
     "output_type": "display_data"
    }
   ],
   "source": [
    "# Create a figure with 6 plot areas\n",
    "fig, axes = plt.subplots(ncols=6, nrows=3, sharex='col', sharey='row')\n",
    "fig.set_size_inches(18, 8, forward=True)\n",
    "\n",
    "for i in range(6):\n",
    "    axes[0, i].imshow(allfakemodels[score_ind[-i - 7],0, :,:,16])\n",
    "    axes[1, i].imshow(np.transpose(allfakemodels[score_ind[-i - 7],0, 64,:,:], axes=[1, 0]))\n",
    "    axes[2, i].imshow(np.transpose(allfakemodels[score_ind[-i - 7],0, :,64,:], axes=[1, 0]))  "
   ]
  },
  {
   "cell_type": "code",
   "execution_count": 25,
   "metadata": {},
   "outputs": [
    {
     "data": {
      "image/png": "[encoded data removed]",
      "text/plain": [
       "<Figure size 1296x576 with 18 Axes>"
      ]
     },
     "metadata": {},
     "output_type": "display_data"
    }
   ],
   "source": [
    "# Create a figure with 6 plot areas\n",
    "fig, axes = plt.subplots(ncols=6, nrows=3, sharex='col', sharey='row')\n",
    "fig.set_size_inches(18, 8, forward=True)\n",
    "\n",
    "for i in range(6):\n",
    "    axes[0, i].imshow(allfakemodels[i+10,0, :,:,16])\n",
    "    axes[1, i].imshow(np.transpose(allfakemodels[i+10,0, 64,:,:], axes=[1, 0]))\n",
    "    axes[2, i].imshow(np.transpose(allfakemodels[i+10,0, :,64,:], axes=[1, 0]))  "
   ]
  },
  {
   "cell_type": "code",
   "execution_count": null,
   "metadata": {
    "collapsed": true
   },
   "outputs": [],
   "source": []
  },
  {
   "cell_type": "markdown",
   "metadata": {
    "collapsed": true
   },
   "source": [
    "##### Save examples into Petrel-readable files"
   ]
  },
  {
   "cell_type": "code",
   "execution_count": 26,
   "metadata": {},
   "outputs": [
    {
     "name": "stdout",
     "output_type": "stream",
     "text": [
      "(32, 128, 128)\n",
      "(524288, 3)\n"
     ]
    }
   ],
   "source": [
    "onecube = np.zeros([32, 128, 128])\n",
    "print(onecube.shape)\n",
    "coords = np.argwhere(onecube>-1)\n",
    "print(coords.shape)\n",
    "coords_output = np.zeros(coords.shape)\n",
    "coords_output[:,0] = coords[:,2]+1\n",
    "coords_output[:,1] = coords[:,1]+1\n",
    "coords_output[:,2] = 32 - coords[:,0]\n",
    "coords_output = coords_output.astype(np.int16)"
   ]
  },
  {
   "cell_type": "code",
   "execution_count": 27,
   "metadata": {},
   "outputs": [
    {
     "name": "stdout",
     "output_type": "stream",
     "text": [
      "(400, 1, 128, 128, 32)\n"
     ]
    }
   ],
   "source": [
    "print(allfakemodels.shape)"
   ]
  },
  {
   "cell_type": "code",
   "execution_count": 30,
   "metadata": {},
   "outputs": [
    {
     "name": "stdout",
     "output_type": "stream",
     "text": [
      "(30, 1, 128, 128, 32)\n",
      "(524288, 33)\n"
     ]
    }
   ],
   "source": [
    "\n",
    "exampled_fm = allfakemodels[:30] + 1\n",
    "print(exampled_fm.shape)\n",
    "exampled_fm_output = exampled_fm.transpose(0,1,4,2,3)[:,:,::-1,::-1,:].reshape(-1, coords.shape[0]).T.astype(np.int)\n",
    "# exampled_5_fm_output = np.where(exampled_5_fm_output>0,1,-99)\n",
    "exampled_fm_output_txt = np.concatenate((coords_output, exampled_fm_output), axis = 1)\n",
    "print(exampled_fm_output_txt.shape)"
   ]
  },
  {
   "cell_type": "code",
   "execution_count": 31,
   "metadata": {
    "collapsed": true
   },
   "outputs": [],
   "source": [
    "dirpath = '/scratch/users/suihong/SubwaterFan/TrainedModels/008-pgan3D128x128x32_4gpu_follow007/'\n",
    "exampled_fm_fname = dirpath + '30GeneratedFaciesModels.txt'\n",
    "np.savetxt(exampled_fm_fname , exampled_fm_output_txt, fmt='%i', newline='\\n')   # \"%03d\" + \"%.10f\"*7\n",
    "\n",
    "with open(exampled_fm_fname, \"r\") as f:\n",
    "    contents = f.readlines()\n",
    "lines = 'PETREL: Properties\\n'+'33\\n'+'i_index unit1 scale1\\n'+'j_index unit1 scale1\\n'+'k_index unit1 scale1\\n'+\\\n",
    "'Facies unit1 scale1\\n'*30\n",
    "contents.insert(0, lines)\n",
    "with open(exampled_fm_fname, \"w\") as f:\n",
    "    contents = \"\".join(contents)\n",
    "    f.write(contents)"
   ]
  },
  {
   "cell_type": "code",
   "execution_count": null,
   "metadata": {
    "collapsed": true
   },
   "outputs": [],
   "source": []
  },
  {
   "cell_type": "markdown",
   "metadata": {},
   "source": [
    "## 5. Evaluation with enlarged inputs"
   ]
  },
  {
   "cell_type": "code",
   "execution_count": 64,
   "metadata": {},
   "outputs": [
    {
     "name": "stdout",
     "output_type": "stream",
     "text": [
      "WARNING:tensorflow:From /share/software/user/open/py-tensorflow/2.6.2_py36/lib/python3.6/site-packages/tensorflow/python/compat/v2_compat.py:101: disable_resource_variables (from tensorflow.python.ops.variable_scope) is deprecated and will be removed in a future version.\n",
      "Instructions for updating:\n",
      "non-resource variables are not supported in the long term\n"
     ]
    }
   ],
   "source": [
    "tf.disable_v2_behavior()  # if not use with this line, \"AttributeError: 'int' object has no attribute 'value'\" "
   ]
  },
  {
   "cell_type": "code",
   "execution_count": 65,
   "metadata": {
    "collapsed": true,
    "scrolled": false
   },
   "outputs": [],
   "source": [
    "import config\n",
    "import tfutil\n",
    "\n",
    "resolution_z = 64\n",
    "resolution_x = 256\n",
    "resolution_y = 256\n",
    "\n",
    "latent_size_z = int(resolution_z/8)  ##input 8x8x8 as latent vector\n",
    "latent_size_x = int(resolution_x/32)\n",
    "latent_size_y = int(resolution_y/32)\n",
    "\n",
    "label_size = 0\n",
    "\n",
    "Gs_enlarged = tfutil.Network('Gs_enlarged', num_channels=1, label_size=label_size, \n",
    "                             resolution_z = resolution_z, resolution_x = resolution_x, resolution_y = resolution_y,\n",
    "                             latent_size_z = latent_size_z, latent_size_x = latent_size_x,latent_size_y = latent_size_y,    \n",
    "                             **config.G) #"
   ]
  },
  {
   "cell_type": "code",
   "execution_count": 67,
   "metadata": {
    "collapsed": true,
    "scrolled": false
   },
   "outputs": [],
   "source": [
    "Gs_enlarged.copy_trainables_from(Gs)"
   ]
  },
  {
   "cell_type": "code",
   "execution_count": 66,
   "metadata": {
    "scrolled": true
   },
   "outputs": [
    {
     "name": "stdout",
     "output_type": "stream",
     "text": [
      "[[Dimension(None), Dimension(8), Dimension(8), Dimension(8), Dimension(8)], [Dimension(None), Dimension(0), Dimension(8), Dimension(8), Dimension(8)], [Dimension(None), Dimension(0), Dimension(256), Dimension(256), Dimension(64)], [Dimension(None), Dimension(0), Dimension(256), Dimension(256), Dimension(64)]]\n"
     ]
    }
   ],
   "source": [
    "print(Gs_enlarged.input_shapes)"
   ]
  },
  {
   "cell_type": "code",
   "execution_count": 68,
   "metadata": {
    "scrolled": false
   },
   "outputs": [
    {
     "name": "stdout",
     "output_type": "stream",
     "text": [
      "[Dimension(None), Dimension(1), Dimension(256), Dimension(256), Dimension(64)]\n"
     ]
    }
   ],
   "source": [
    "print(Gs_enlarged.output_shape)"
   ]
  },
  {
   "cell_type": "code",
   "execution_count": 69,
   "metadata": {
    "collapsed": true
   },
   "outputs": [],
   "source": [
    "latents_lg = np.random.RandomState(412).randn(1, 8, latent_size_x, latent_size_y, latent_size_z)   #\n",
    "synlabel_lg = np.zeros((1, 0, latent_size_x, latent_size_y, latent_size_z))\n",
    "syn_wellfacies_lg = np.zeros((1, 0, resolution_x, resolution_y, resolution_z))\n",
    "synprob_lg = np.zeros((1, 0, resolution_x, resolution_y, resolution_z))\n",
    "\n",
    "fakemodels = Gs_enlarged.run(latents_lg, synlabel_lg, syn_wellfacies_lg, synprob_lg)\n",
    "fakemodels = np.where(fakemodels< -0.5, -1, np.where(fakemodels > 0.5, 1, 0))"
   ]
  },
  {
   "cell_type": "code",
   "execution_count": 70,
   "metadata": {
    "scrolled": true
   },
   "outputs": [
    {
     "data": {
      "text/plain": [
       "<matplotlib.colorbar.Colorbar at 0x7fdadc36dac8>"
      ]
     },
     "execution_count": 70,
     "metadata": {},
     "output_type": "execute_result"
    },
    {
     "data": {
      "image/png": "[encoded data removed]",
      "text/plain": [
       "<Figure size 432x288 with 2 Axes>"
      ]
     },
     "metadata": {},
     "output_type": "display_data"
    }
   ],
   "source": [
    "plt.imshow(fakemodels[0,0, :,:,20])\n",
    "plt.colorbar()"
   ]
  },
  {
   "cell_type": "code",
   "execution_count": 71,
   "metadata": {},
   "outputs": [
    {
     "data": {
      "text/plain": [
       "<matplotlib.colorbar.Colorbar at 0x7fdadebafd30>"
      ]
     },
     "execution_count": 71,
     "metadata": {},
     "output_type": "execute_result"
    },
    {
     "data": {
      "image/png": "[encoded data removed]",
      "text/plain": [
       "<Figure size 432x288 with 2 Axes>"
      ]
     },
     "metadata": {},
     "output_type": "display_data"
    }
   ],
   "source": [
    "plt.imshow(np.transpose(fakemodels[0,0, 64,:,:], axes=[1, 0]))\n",
    "plt.colorbar()"
   ]
  },
  {
   "cell_type": "code",
   "execution_count": null,
   "metadata": {
    "collapsed": true
   },
   "outputs": [],
   "source": []
  }
 ],
 "metadata": {
  "accelerator": "GPU",
  "colab": {
   "collapsed_sections": [],
   "name": "Application and label conditioning accuracy analyses of Trained model.ipynb",
   "provenance": [],
   "version": "0.3.2"
  },
  "kernelspec": {
   "display_name": "Python 3",
   "language": "python",
   "name": "python3"
  },
  "language_info": {
   "codemirror_mode": {
    "name": "ipython",
    "version": 3
   },
   "file_extension": ".py",
   "mimetype": "text/x-python",
   "name": "python",
   "nbconvert_exporter": "python",
   "pygments_lexer": "ipython3",
   "version": "3.6.1"
  }
 },
 "nbformat": 4,
 "nbformat_minor": 1
}
