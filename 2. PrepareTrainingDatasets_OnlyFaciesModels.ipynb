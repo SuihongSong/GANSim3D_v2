{
 "cells": [
  {
   "cell_type": "code",
   "execution_count": 1,
   "metadata": {
    "collapsed": true
   },
   "outputs": [],
   "source": [
    "%matplotlib inline\n",
    "import matplotlib.pyplot as plt\n",
    "import numpy as np\n",
    "import os"
   ]
  },
  {
   "cell_type": "markdown",
   "metadata": {},
   "source": [
    "### 1. Load conceptual geomodels"
   ]
  },
  {
   "cell_type": "code",
   "execution_count": 2,
   "metadata": {},
   "outputs": [
    {
     "name": "stdout",
     "output_type": "stream",
     "text": [
      "(8000000, 400)\n",
      "(400, 400, 400, 50)\n"
     ]
    }
   ],
   "source": [
    "# Loading all conceptual geomodels contained in the int8 format file\n",
    "# In geomodels:  0-background mud faceis, 1-channel facies, 2-lobe facies\n",
    "dirpath = '/scratch/users/suihong/SubwaterFan/LargeConceptualModelsfromPetrel/' \n",
    "\n",
    "rlz_no = 400\n",
    "con_x_size = 400\n",
    "con_y_size = 400\n",
    "con_z_size = 50\n",
    "\n",
    "concpts = np.load(dirpath + 'concpts_all_int8.txt.npy')\n",
    "print(concpts.shape)\n",
    "\n",
    "concpts = concpts.transpose(1,0).reshape(rlz_no, con_x_size, con_y_size, con_z_size)\n",
    "print(concpts.shape)"
   ]
  },
  {
   "cell_type": "code",
   "execution_count": 3,
   "metadata": {
    "scrolled": true
   },
   "outputs": [
    {
     "data": {
      "text/plain": [
       "<matplotlib.image.AxesImage at 0x7f5c82a31e80>"
      ]
     },
     "execution_count": 3,
     "metadata": {},
     "output_type": "execute_result"
    },
    {
     "data": {
      "image/png": "[encoded data removed]",
      "text/plain": [
       "<Figure size 720x360 with 2 Axes>"
      ]
     },
     "metadata": {},
     "output_type": "display_data"
    }
   ],
   "source": [
    "fig, ax = plt.subplots(1, 2)\n",
    "fig.set_size_inches(10, 5, forward=True)\n",
    "ax[0].imshow(concpts[1, :, :, 0], cmap='gray')\n",
    "ax[1].imshow(concpts[1,-1,:,:].transpose(1,0), cmap='gray')"
   ]
  },
  {
   "cell_type": "code",
   "execution_count": null,
   "metadata": {
    "collapsed": true
   },
   "outputs": [],
   "source": []
  },
  {
   "cell_type": "markdown",
   "metadata": {},
   "source": [
    "### 2. Crop training geomodels"
   ]
  },
  {
   "cell_type": "code",
   "execution_count": 6,
   "metadata": {
    "collapsed": true
   },
   "outputs": [],
   "source": [
    "def rand_crop(faciesmodel, crop_num, crop_x_size, crop_y_size, crop_z_size):\n",
    "    sand_indices = np.argwhere(faciesmodel > 0.9)\n",
    "    crop_indices = np.random.randint(0, sand_indices.shape[0], crop_num)\n",
    "    crop_pt_coos = sand_indices[crop_indices]\n",
    "    [model_x_size, model_y_size, model_z_size] = faciesmodel.shape\n",
    "\n",
    "    facies_crops = np.zeros((crop_num, crop_x, crop_y, crop_z), np.int8)    \n",
    "    \n",
    "    for k in range(crop_num):\n",
    "        [pt_x, pt_y, pt_z] = crop_pt_coos[k]\n",
    "        \n",
    "        x_e_dist = model_x_size - 1 - pt_x  # distance between sampled point to the east boundary\n",
    "        y_s_dist = model_y_size - 1 - pt_y\n",
    "        z_b_dist = model_z_size - 1 - pt_z\n",
    "        \n",
    "        if x_e_dist <= crop_x_size - 1:\n",
    "            dx_e = np.random.randint(0, x_e_dist + 1)\n",
    "            crop_x_ed = pt_x + dx_e\n",
    "            crop_x_st = crop_x_ed - crop_x_size\n",
    "        else:\n",
    "            crop_x_st = max(0, pt_x - np.random.randint(0, crop_x_size - 1))\n",
    "            crop_x_ed = crop_x_st + crop_x_size\n",
    "            \n",
    "        if y_s_dist <= crop_y_size - 1:\n",
    "            dy_s = np.random.randint(0, y_s_dist)\n",
    "            crop_y_ed = pt_y + dy_s\n",
    "            crop_y_st = crop_y_ed - crop_y_size\n",
    "        else:\n",
    "            crop_y_st = max(0, pt_y - np.random.randint(0, crop_y_size - 1))\n",
    "            crop_y_ed = crop_y_st + crop_y_size   \n",
    "\n",
    "\n",
    "        if model_z_size >= 2 * crop_z_size:            \n",
    "            if pt_z <= crop_z_size:\n",
    "                crop_z_st = np.random.randint(0, pt_z + 1)\n",
    "                crop_z_ed = crop_z_st + crop_z_size               \n",
    "            elif pt_z <= model_z_size - crop_z_size:\n",
    "                crop_z_st = np.random.randint(pt_z - crop_z_size, pt_z + 1)\n",
    "                crop_z_ed = crop_z_st + crop_z_size                 \n",
    "            else:\n",
    "                crop_z_ed = np.random.randint(pt_z, model_z_size)\n",
    "                crop_z_st = crop_z_ed - crop_z_size\n",
    "        else:\n",
    "            if pt_z <= model_z_size - crop_z_size:\n",
    "                crop_z_st = np.random.randint(0, pt_z + 1)\n",
    "                crop_z_ed = crop_z_st + crop_z_size               \n",
    "            elif pt_z <= crop_z_size:\n",
    "                crop_z_st = np.random.randint(0, model_z_size - crop_z_size + 1)\n",
    "                crop_z_ed = crop_z_st + crop_z_size                 \n",
    "            else:\n",
    "                crop_z_ed = np.random.randint(pt_z, model_z_size)\n",
    "                crop_z_st = crop_z_ed - crop_z_size            \n",
    "\n",
    "        facies_crops[k] = faciesmodel[crop_x_st: crop_x_ed, crop_y_st: crop_y_ed, crop_z_st: crop_z_ed]    \n",
    "        \n",
    "    return facies_crops"
   ]
  },
  {
   "cell_type": "code",
   "execution_count": 7,
   "metadata": {
    "scrolled": true
   },
   "outputs": [
    {
     "name": "stdout",
     "output_type": "stream",
     "text": [
      "0\n",
      "1\n",
      "2\n",
      "3\n",
      "4\n",
      "5\n",
      "6\n",
      "7\n",
      "8\n",
      "9\n",
      "10\n",
      "11\n",
      "12\n",
      "13\n",
      "14\n",
      "15\n",
      "16\n",
      "17\n",
      "18\n",
      "19\n",
      "20\n",
      "21\n",
      "22\n",
      "23\n",
      "24\n",
      "25\n",
      "26\n",
      "27\n",
      "28\n",
      "29\n",
      "30\n",
      "31\n",
      "32\n",
      "33\n",
      "34\n",
      "35\n",
      "36\n",
      "37\n",
      "38\n",
      "39\n",
      "40\n",
      "41\n",
      "42\n",
      "43\n",
      "44\n",
      "45\n",
      "46\n",
      "47\n",
      "48\n",
      "49\n",
      "50\n",
      "51\n",
      "52\n",
      "53\n",
      "54\n",
      "55\n",
      "56\n",
      "57\n",
      "58\n",
      "59\n",
      "60\n",
      "61\n",
      "62\n",
      "63\n",
      "64\n",
      "65\n",
      "66\n",
      "67\n",
      "68\n",
      "69\n",
      "70\n",
      "71\n",
      "72\n",
      "73\n",
      "74\n",
      "75\n",
      "76\n",
      "77\n",
      "78\n",
      "79\n",
      "80\n",
      "81\n",
      "82\n",
      "83\n",
      "84\n",
      "85\n",
      "86\n",
      "87\n",
      "88\n",
      "89\n",
      "90\n",
      "91\n",
      "92\n",
      "93\n",
      "94\n",
      "95\n",
      "96\n",
      "97\n",
      "98\n",
      "99\n",
      "100\n",
      "101\n",
      "102\n",
      "103\n",
      "104\n",
      "105\n",
      "106\n",
      "107\n",
      "108\n",
      "109\n",
      "110\n",
      "111\n",
      "112\n",
      "113\n",
      "114\n",
      "115\n",
      "116\n",
      "117\n",
      "118\n",
      "119\n",
      "120\n",
      "121\n",
      "122\n",
      "123\n",
      "124\n",
      "125\n",
      "126\n",
      "127\n",
      "128\n",
      "129\n",
      "130\n",
      "131\n",
      "132\n",
      "133\n",
      "134\n",
      "135\n",
      "136\n",
      "137\n",
      "138\n",
      "139\n",
      "140\n",
      "141\n",
      "142\n",
      "143\n",
      "144\n",
      "145\n",
      "146\n",
      "147\n",
      "148\n",
      "149\n",
      "150\n",
      "151\n",
      "152\n",
      "153\n",
      "154\n",
      "155\n",
      "156\n",
      "157\n",
      "158\n",
      "159\n",
      "160\n",
      "161\n",
      "162\n",
      "163\n",
      "164\n",
      "165\n",
      "166\n",
      "167\n",
      "168\n",
      "169\n",
      "170\n",
      "171\n",
      "172\n",
      "173\n",
      "174\n",
      "175\n",
      "176\n",
      "177\n",
      "178\n",
      "179\n",
      "180\n",
      "181\n",
      "182\n",
      "183\n",
      "184\n",
      "185\n",
      "186\n",
      "187\n",
      "188\n",
      "189\n",
      "190\n",
      "191\n",
      "192\n",
      "193\n",
      "194\n",
      "195\n",
      "196\n",
      "197\n",
      "198\n",
      "199\n",
      "200\n",
      "201\n",
      "202\n",
      "203\n",
      "204\n",
      "205\n",
      "206\n",
      "207\n",
      "208\n",
      "209\n",
      "210\n",
      "211\n",
      "212\n",
      "213\n",
      "214\n",
      "215\n",
      "216\n",
      "217\n",
      "218\n",
      "219\n",
      "220\n",
      "221\n",
      "222\n",
      "223\n",
      "224\n",
      "225\n",
      "226\n",
      "227\n",
      "228\n",
      "229\n",
      "230\n",
      "231\n",
      "232\n",
      "233\n",
      "234\n",
      "235\n",
      "236\n",
      "237\n",
      "238\n",
      "239\n",
      "240\n",
      "241\n",
      "242\n",
      "243\n",
      "244\n",
      "245\n",
      "246\n",
      "247\n",
      "248\n",
      "249\n",
      "250\n",
      "251\n",
      "252\n",
      "253\n",
      "254\n",
      "255\n",
      "256\n",
      "257\n",
      "258\n",
      "259\n",
      "260\n",
      "261\n",
      "262\n",
      "263\n",
      "264\n",
      "265\n",
      "266\n",
      "267\n",
      "268\n",
      "269\n",
      "270\n",
      "271\n",
      "272\n",
      "273\n",
      "274\n",
      "275\n",
      "276\n",
      "277\n",
      "278\n",
      "279\n",
      "280\n",
      "281\n",
      "282\n",
      "283\n",
      "284\n",
      "285\n",
      "286\n",
      "287\n",
      "288\n",
      "289\n",
      "290\n",
      "291\n",
      "292\n",
      "293\n",
      "294\n",
      "295\n",
      "296\n",
      "297\n",
      "298\n",
      "299\n",
      "300\n",
      "301\n",
      "302\n",
      "303\n",
      "304\n",
      "305\n",
      "306\n",
      "307\n",
      "308\n",
      "309\n",
      "310\n",
      "311\n",
      "312\n",
      "313\n",
      "314\n",
      "315\n",
      "316\n",
      "317\n",
      "318\n",
      "319\n",
      "320\n",
      "321\n",
      "322\n",
      "323\n",
      "324\n",
      "325\n",
      "326\n",
      "327\n",
      "328\n",
      "329\n",
      "330\n",
      "331\n",
      "332\n",
      "333\n",
      "334\n",
      "335\n",
      "336\n",
      "337\n",
      "338\n",
      "339\n",
      "340\n",
      "341\n",
      "342\n",
      "343\n",
      "344\n",
      "345\n",
      "346\n",
      "347\n",
      "348\n",
      "349\n",
      "350\n",
      "351\n",
      "352\n",
      "353\n",
      "354\n",
      "355\n",
      "356\n",
      "357\n",
      "358\n",
      "359\n",
      "360\n",
      "361\n",
      "362\n",
      "363\n",
      "364\n",
      "365\n",
      "366\n",
      "367\n",
      "368\n",
      "369\n",
      "370\n",
      "371\n",
      "372\n",
      "373\n",
      "374\n",
      "375\n",
      "376\n",
      "377\n",
      "378\n",
      "379\n",
      "380\n",
      "381\n",
      "382\n",
      "383\n",
      "384\n",
      "385\n",
      "386\n",
      "387\n",
      "388\n",
      "389\n",
      "390\n",
      "391\n",
      "392\n",
      "393\n",
      "394\n",
      "395\n",
      "396\n",
      "397\n",
      "398\n",
      "399\n"
     ]
    }
   ],
   "source": [
    "crops_for_each_model = 24\n",
    "crop_x, crop_y, crop_z = 128, 128, 32\n",
    "facies_crops = np.zeros((rlz_no, crops_for_each_model, crop_x, crop_y, crop_z))\n",
    "\n",
    "for i in range(rlz_no):\n",
    "    facies_model_i = concpts[i]   # shape of [400, 400, 400]\n",
    "    facies_crops[i] = rand_crop(facies_model_i, crops_for_each_model, crop_x, crop_y, crop_z)\n",
    "    \n",
    "    print(i)\n",
    "    "
   ]
  },
  {
   "cell_type": "code",
   "execution_count": 8,
   "metadata": {},
   "outputs": [
    {
     "data": {
      "text/plain": [
       "<matplotlib.colorbar.Colorbar at 0x7f525a91e160>"
      ]
     },
     "execution_count": 8,
     "metadata": {},
     "output_type": "execute_result"
    },
    {
     "data": {
      "image/png": "[encoded data removed]",
      "text/plain": [
       "<Figure size 432x288 with 2 Axes>"
      ]
     },
     "metadata": {},
     "output_type": "display_data"
    }
   ],
   "source": [
    "plt.imshow(facies_crops[26,22,:,:,15])\n",
    "plt.colorbar()"
   ]
  },
  {
   "cell_type": "code",
   "execution_count": 9,
   "metadata": {},
   "outputs": [
    {
     "data": {
      "text/plain": [
       "<matplotlib.colorbar.Colorbar at 0x7f525a84a438>"
      ]
     },
     "execution_count": 9,
     "metadata": {},
     "output_type": "execute_result"
    },
    {
     "data": {
      "image/png": "[encoded data removed]",
      "text/plain": [
       "<Figure size 432x288 with 2 Axes>"
      ]
     },
     "metadata": {},
     "output_type": "display_data"
    }
   ],
   "source": [
    "plt.imshow(concpts[0,:,:,25])\n",
    "plt.colorbar()"
   ]
  },
  {
   "cell_type": "code",
   "execution_count": 10,
   "metadata": {
    "collapsed": true
   },
   "outputs": [],
   "source": [
    "\n",
    "facies_crops = facies_crops.reshape(-1, 1, 128, 128, 32)\n",
    "# randomly permute facies_crops:\n",
    "random_seq=np.random.RandomState(232).permutation(facies_crops.shape[0])\n",
    "facies_crops = facies_crops[random_seq]"
   ]
  },
  {
   "cell_type": "code",
   "execution_count": null,
   "metadata": {
    "collapsed": true
   },
   "outputs": [],
   "source": []
  },
  {
   "cell_type": "markdown",
   "metadata": {},
   "source": [
    "### 3 Downsample and save training and test datasets"
   ]
  },
  {
   "cell_type": "code",
   "execution_count": 14,
   "metadata": {
    "collapsed": true
   },
   "outputs": [],
   "source": [
    "# dirpath = '/scratch/users/suihong/SubwaterFan/LargeConceptualModelsfromPetrel/'\n",
    "\n",
    "tfrecord_dir_training = '/scratch/users/suihong/SubwaterFan/dataset_test/TrainingData'\n",
    "tfrecord_dir_test = '/scratch/users/suihong/SubwaterFan/dataset_test/TestData'"
   ]
  },
  {
   "cell_type": "code",
   "execution_count": 11,
   "metadata": {},
   "outputs": [
    {
     "name": "stdout",
     "output_type": "stream",
     "text": [
      "(9000, 1, 128, 128, 32)\n",
      "(600, 1, 128, 128, 32)\n"
     ]
    }
   ],
   "source": [
    "# split facies models into training and test dataset\n",
    "#randseq=np.random.RandomState(232).permutation(allcubes.shape[0])\n",
    "facies_crops_training = facies_crops[:9000]\n",
    "facies_crops_test = facies_crops[9000:]\n",
    "print(facies_crops_training.shape)\n",
    "print(facies_crops_test.shape)"
   ]
  },
  {
   "cell_type": "markdown",
   "metadata": {
    "collapsed": true
   },
   "source": [
    "#### Store training dataset"
   ]
  },
  {
   "cell_type": "code",
   "execution_count": 12,
   "metadata": {
    "collapsed": true
   },
   "outputs": [],
   "source": [
    "import tensorflow.compat.v1 as tf"
   ]
  },
  {
   "cell_type": "code",
   "execution_count": 15,
   "metadata": {
    "collapsed": true
   },
   "outputs": [],
   "source": [
    "from scipy import stats\n",
    "# copy from ProGAN github dataset_tools.py\n",
    "class TFRecordExporter:\n",
    "    def __init__(self, tfrecord_dir, expected_cubes, print_progress=True, progress_interval=10):\n",
    "        self.tfrecord_dir       = tfrecord_dir\n",
    "        self.tfr_prefix         = os.path.join(self.tfrecord_dir, os.path.basename(self.tfrecord_dir))\n",
    "        self.expected_cubes    = expected_cubes\n",
    "        self.cur_cubes         = 0\n",
    "        self.shape              = None\n",
    "        self.max_res_log2      = None\n",
    "        self.tfr_writers        = []\n",
    "        self.print_progress     = print_progress\n",
    "        self.progress_interval  = progress_interval\n",
    "        if self.print_progress:\n",
    "            print('Creating dataset \"%s\"' % tfrecord_dir)\n",
    "        if not os.path.isdir(self.tfrecord_dir):\n",
    "            os.makedirs(self.tfrecord_dir)\n",
    "        assert(os.path.isdir(self.tfrecord_dir))\n",
    "        \n",
    "    def close(self):\n",
    "        if self.print_progress:\n",
    "            print('%-40s\\r' % 'Flushing data...', end='', flush=True)\n",
    "        for tfr_writer in self.tfr_writers:\n",
    "            tfr_writer.close()\n",
    "        self.tfr_writers = []\n",
    "        if self.print_progress:\n",
    "            print('%-40s\\r' % '', end='', flush=True)\n",
    "            print('Added %d cubes.' % self.cur_cubes)\n",
    "\n",
    "    def choose_shuffled_order(self): # Note: Cubes and labels must be added in shuffled order.\n",
    "        order = np.arange(self.expected_cubes)\n",
    "        np.random.RandomState(123).shuffle(order)\n",
    "        return order\n",
    "\n",
    "                \n",
    "    def add_real_cube(self, real_cube):\n",
    "        def downscale_factor(cube):\n",
    "            cube_dim = cube.shape[1:]\n",
    "            cube_dim_log2 = np.log2(cube_dim).astype(int)\n",
    "            cube_dim_log2_dist = cube_dim_log2 - np.array([2, 2, 2])\n",
    "            down_factor = np.where(cube_dim_log2_dist > 0, 2, 1)\n",
    "            return down_factor\n",
    "    \n",
    "        if self.print_progress and self.cur_cubes % self.progress_interval == 0:\n",
    "            print('%d / %d\\r' % (self.cur_cubes, self.expected_cubes), end='', flush=True)\n",
    "        if self.shape is None:\n",
    "            self.shape = real_cube.shape   # [1, 64, 64, 64]\n",
    "            self.max_res_log2  = max(np.log2(self.shape[1:]).astype(int))  # 6\n",
    "            tfr_opt = tf.python_io.TFRecordOptions(tf.python_io.TFRecordCompressionType.NONE)\n",
    "            for lod in range(self.max_res_log2 - 1):\n",
    "                tfr_file = self.tfr_prefix + '-1r%02d.tfrecords' % (self.max_res_log2 - lod)\n",
    "                self.tfr_writers.append(tf.python_io.TFRecordWriter(tfr_file, tfr_opt))\n",
    "            self.tfr_writers.append(tf.python_io.TFRecordWriter(tfr_file, tfr_opt))\n",
    "        assert real_cube.shape == self.shape\n",
    "        \n",
    "        for lod, tfr_writer in enumerate(self.tfr_writers[:-1]):\n",
    "            if lod:\n",
    "                real_cube = real_cube.astype(np.float32)\n",
    "                # used to produce low-D with averaging method                \n",
    "                dwscl_factor = downscale_factor(real_cube)\n",
    "                fac_x, fac_y, fac_z = dwscl_factor                \n",
    "                \n",
    "                # have problem if fac_z = 1\n",
    "                #real_cube = (real_cube[:, 0::fac_x, 0::fac_y, 0::fac_z] + real_cube[:, 0::fac_x, fac_y - 1::fac_y, 0::fac_z] + \\\n",
    "                #             real_cube[:, fac_x - 1::fac_x, 0::fac_y, 0::fac_z] +real_cube[:, fac_x - 1::fac_x, fac_y - 1::fac_y, 0::fac_z] + \\\n",
    "                #             real_cube[:, 0::fac_x, 0::fac_y, fac_z - 1::fac_z] + real_cube[:, 0::fac_x, fac_y - 1::fac_y, fac_z - 1::fac_z] + \\\n",
    "                #             real_cube[:, fac_x - 1::fac_x, 0::fac_y, fac_z - 1::fac_z] + \\\n",
    "                #             real_cube[:, fac_x - 1::fac_x, fac_y - 1::fac_y, fac_z - 1::fac_z])/ (fac_x * fac_y * fac_z)\n",
    "\n",
    "\n",
    "\n",
    "                # used to produce low-D with method （once channel exist, it remain channel; otherwise, keep lobes if lobes exist）\n",
    "                # facies remain order: channel (code 1), lobes (code 2), mud (code 0)\n",
    "                # convert code 1 into 9 for channels, for easy frequency computation. Remember to convert back finally.\n",
    "                real_cube = np.where(real_cube == 1, 9, real_cube)\n",
    "                real_cube = np.expand_dims(real_cube, axis = -1)    \n",
    "                # Mind where fac_z = 1\n",
    "                real_cube = np.concatenate((real_cube[:, 0::fac_x, 0::fac_y, 0::fac_z], real_cube[:, 0::fac_x, fac_y - 1::fac_y, 0::fac_z], \\\n",
    "                                            real_cube[:, fac_x - 1::fac_x, 0::fac_y, 0::fac_z], real_cube[:, fac_x - 1::fac_x, fac_y - 1::fac_y, 0::fac_z], \\\n",
    "                                            real_cube[:, 0::fac_x, 0::fac_y, fac_z - 1::fac_z], real_cube[:, 0::fac_x, fac_y - 1::fac_y, fac_z - 1::fac_z], \\\n",
    "                                            real_cube[:, fac_x - 1::fac_x, 0::fac_y, fac_z - 1::fac_z], \\\n",
    "                                            real_cube[:, fac_x - 1::fac_x, fac_y - 1::fac_y, fac_z - 1::fac_z]), axis = -1)\n",
    "                real_cube = np.max(real_cube, axis = -1)\n",
    "                real_cube = np.where(real_cube == 9, 1, real_cube)             \n",
    "\n",
    "                \n",
    "            quant = np.rint(real_cube).clip(0, 2).astype(np.uint8)\n",
    "            ex = tf.train.Example(features=tf.train.Features(feature={\n",
    "                'shape': tf.train.Feature(int64_list=tf.train.Int64List(value=quant.shape)),\n",
    "                'data': tf.train.Feature(bytes_list=tf.train.BytesList(value=[quant.tostring()]))}))\n",
    "            tfr_writer.write(ex.SerializeToString())\n",
    "        self.cur_cubes += 1            \n",
    "            \n",
    "    def __enter__(self):\n",
    "        return self\n",
    "    \n",
    "    def __exit__(self, *args):\n",
    "        self.close()"
   ]
  },
  {
   "cell_type": "code",
   "execution_count": 16,
   "metadata": {},
   "outputs": [
    {
     "name": "stdout",
     "output_type": "stream",
     "text": [
      "Creating dataset \"/scratch/users/suihong/SubwaterFan/dataset_test/TrainingData\"\n",
      "10 / 9000\r"
     ]
    },
    {
     "name": "stderr",
     "output_type": "stream",
     "text": [
      "/share/software/user/open/py-jupyter/1.0.0_py36/lib/python3.6/site-packages/ipykernel_launcher.py:86: DeprecationWarning: tostring() is deprecated. Use tobytes() instead.\n"
     ]
    },
    {
     "name": "stdout",
     "output_type": "stream",
     "text": [
      "Added 9000 cubes.                       \n"
     ]
    }
   ],
   "source": [
    "with TFRecordExporter(tfrecord_dir_training, facies_crops_training.shape[0]) as tfr:\n",
    "    order = tfr.choose_shuffled_order()\n",
    "    for idx in range(order.size):\n",
    "        tfr.add_real_cube(facies_crops_training[order[idx]])      "
   ]
  },
  {
   "cell_type": "markdown",
   "metadata": {
    "collapsed": true
   },
   "source": [
    "#### Store test dataset"
   ]
  },
  {
   "cell_type": "code",
   "execution_count": 17,
   "metadata": {},
   "outputs": [
    {
     "name": "stdout",
     "output_type": "stream",
     "text": [
      "Creating dataset \"/scratch/users/suihong/SubwaterFan/dataset_test/TestData\"\n",
      "10 / 600\r"
     ]
    },
    {
     "name": "stderr",
     "output_type": "stream",
     "text": [
      "/share/software/user/open/py-jupyter/1.0.0_py36/lib/python3.6/site-packages/ipykernel_launcher.py:86: DeprecationWarning: tostring() is deprecated. Use tobytes() instead.\n"
     ]
    },
    {
     "name": "stdout",
     "output_type": "stream",
     "text": [
      "Added 600 cubes.                        \n"
     ]
    }
   ],
   "source": [
    "with TFRecordExporter(tfrecord_dir_test, facies_crops_test.shape[0]) as tfr:\n",
    "    for idx in range(facies_crops_test.shape[0]):\n",
    "        tfr.add_real_cube(facies_crops_test[idx])      "
   ]
  },
  {
   "cell_type": "code",
   "execution_count": null,
   "metadata": {
    "collapsed": true
   },
   "outputs": [],
   "source": []
  },
  {
   "cell_type": "code",
   "execution_count": null,
   "metadata": {
    "collapsed": true
   },
   "outputs": [],
   "source": []
  },
  {
   "cell_type": "markdown",
   "metadata": {},
   "source": [
    "### Facies-order based downsampling method illustration"
   ]
  },
  {
   "cell_type": "markdown",
   "metadata": {},
   "source": [
    "#### Facies priority: channel > lobe > mud"
   ]
  },
  {
   "cell_type": "code",
   "execution_count": 18,
   "metadata": {
    "collapsed": true
   },
   "outputs": [],
   "source": [
    "def downscale_factor(cube):\n",
    "    cube_dim = cube.shape[1:]\n",
    "    cube_dim_log2 = np.log2(cube_dim).astype(int)\n",
    "    cube_dim_log2_dist = cube_dim_log2 - np.array([2, 2, 2])\n",
    "    down_factor = np.where(cube_dim_log2_dist > 0, 2, 1)\n",
    "    return down_factor\n",
    "\n",
    "def downsc_with_freq(cube):\n",
    "    # convert code 1 into 9 for channels, for easy frequency computation. Remember to convert back finally.\n",
    "    cube = np.where(cube == 1, 9, cube)\n",
    "    \n",
    "    cube = np.squeeze(cube, axis = 1)\n",
    "    fac_x, fac_y, fac_z = downscale_factor(cube)\n",
    "    cube = np.expand_dims(cube, axis = -1)\n",
    "    \n",
    "    # Mind where fac_z = 1\n",
    "    ds_cube = np.concatenate((cube[:, 0::fac_x, 0::fac_y, 0::fac_z], cube[:, 0::fac_x, fac_y - 1::fac_y, 0::fac_z], \\\n",
    "                           cube[:, fac_x - 1::fac_x, 0::fac_y, 0::fac_z], cube[:, fac_x - 1::fac_x, fac_y - 1::fac_y, 0::fac_z], \\\n",
    "                           cube[:, 0::fac_x, 0::fac_y, fac_z - 1::fac_z], cube[:, 0::fac_x, fac_y - 1::fac_y, fac_z - 1::fac_z], \\\n",
    "                           cube[:, fac_x - 1::fac_x, 0::fac_y, fac_z - 1::fac_z], \\\n",
    "                           cube[:, fac_x - 1::fac_x, fac_y - 1::fac_y, fac_z - 1::fac_z]), axis = -1)\n",
    "    ds_cube = np.max(ds_cube, axis = -1)\n",
    "    ds_cube = np.expand_dims(ds_cube, axis = 1)\n",
    "    ds_cube = np.where(ds_cube == 9, 1, ds_cube)\n",
    "    return ds_cube"
   ]
  },
  {
   "cell_type": "code",
   "execution_count": 19,
   "metadata": {},
   "outputs": [
    {
     "data": {
      "text/plain": [
       "<matplotlib.colorbar.Colorbar at 0x7f5b37d599b0>"
      ]
     },
     "execution_count": 19,
     "metadata": {},
     "output_type": "execute_result"
    },
    {
     "data": {
      "image/png": "[encoded data removed]",
      "text/plain": [
       "<Figure size 432x288 with 2 Axes>"
      ]
     },
     "metadata": {},
     "output_type": "display_data"
    }
   ],
   "source": [
    "plt.imshow(facies_crops[124, 0, :, :, 16])\n",
    "plt.colorbar()"
   ]
  },
  {
   "cell_type": "code",
   "execution_count": 20,
   "metadata": {},
   "outputs": [
    {
     "name": "stdout",
     "output_type": "stream",
     "text": [
      "(9600, 1, 64, 64, 16)\n"
     ]
    }
   ],
   "source": [
    "facies_crops_64 = downsc_with_freq(facies_crops)\n",
    "print(facies_crops_64.shape)"
   ]
  },
  {
   "cell_type": "code",
   "execution_count": 21,
   "metadata": {},
   "outputs": [
    {
     "data": {
      "text/plain": [
       "<matplotlib.colorbar.Colorbar at 0x7f5b37d08c50>"
      ]
     },
     "execution_count": 21,
     "metadata": {},
     "output_type": "execute_result"
    },
    {
     "data": {
      "image/png": "[encoded data removed]",
      "text/plain": [
       "<Figure size 432x288 with 2 Axes>"
      ]
     },
     "metadata": {},
     "output_type": "display_data"
    }
   ],
   "source": [
    "plt.imshow(facies_crops_64[124, 0, :, :, 8])\n",
    "plt.colorbar()"
   ]
  },
  {
   "cell_type": "code",
   "execution_count": 22,
   "metadata": {},
   "outputs": [
    {
     "name": "stdout",
     "output_type": "stream",
     "text": [
      "(9600, 1, 32, 32, 8)\n"
     ]
    }
   ],
   "source": [
    "facies_crops_32 = downsc_with_freq(facies_crops_64)\n",
    "print(facies_crops_32.shape)"
   ]
  },
  {
   "cell_type": "code",
   "execution_count": 23,
   "metadata": {},
   "outputs": [
    {
     "data": {
      "text/plain": [
       "<matplotlib.colorbar.Colorbar at 0x7f5b37c34e10>"
      ]
     },
     "execution_count": 23,
     "metadata": {},
     "output_type": "execute_result"
    },
    {
     "data": {
      "image/png": "[encoded data removed]",
      "text/plain": [
       "<Figure size 432x288 with 2 Axes>"
      ]
     },
     "metadata": {},
     "output_type": "display_data"
    }
   ],
   "source": [
    "plt.imshow(facies_crops_32[124, 0, :, :, 4])\n",
    "plt.colorbar()"
   ]
  },
  {
   "cell_type": "code",
   "execution_count": 24,
   "metadata": {},
   "outputs": [
    {
     "name": "stdout",
     "output_type": "stream",
     "text": [
      "(9600, 1, 16, 16, 4)\n"
     ]
    }
   ],
   "source": [
    "facies_crops_16 = downsc_with_freq(facies_crops_32)\n",
    "print(facies_crops_16.shape)"
   ]
  },
  {
   "cell_type": "code",
   "execution_count": 25,
   "metadata": {},
   "outputs": [
    {
     "data": {
      "text/plain": [
       "<matplotlib.colorbar.Colorbar at 0x7f5b37b63fd0>"
      ]
     },
     "execution_count": 25,
     "metadata": {},
     "output_type": "execute_result"
    },
    {
     "data": {
      "image/png": "[encoded data removed]",
      "text/plain": [
       "<Figure size 432x288 with 2 Axes>"
      ]
     },
     "metadata": {},
     "output_type": "display_data"
    }
   ],
   "source": [
    "plt.imshow(facies_crops_16[124, 0, :, :, 2])\n",
    "plt.colorbar()"
   ]
  },
  {
   "cell_type": "code",
   "execution_count": 26,
   "metadata": {},
   "outputs": [
    {
     "name": "stdout",
     "output_type": "stream",
     "text": [
      "(9600, 1, 8, 8, 4)\n"
     ]
    }
   ],
   "source": [
    "facies_crops_8 = downsc_with_freq(facies_crops_16)\n",
    "print(facies_crops_8.shape)"
   ]
  },
  {
   "cell_type": "code",
   "execution_count": 27,
   "metadata": {},
   "outputs": [
    {
     "data": {
      "text/plain": [
       "<matplotlib.colorbar.Colorbar at 0x7f5b37aa16d8>"
      ]
     },
     "execution_count": 27,
     "metadata": {},
     "output_type": "execute_result"
    },
    {
     "data": {
      "image/png": "[encoded data removed]",
      "text/plain": [
       "<Figure size 432x288 with 2 Axes>"
      ]
     },
     "metadata": {},
     "output_type": "display_data"
    }
   ],
   "source": [
    "plt.imshow(facies_crops_8[124, 0, :, :, 2])\n",
    "plt.colorbar()"
   ]
  },
  {
   "cell_type": "code",
   "execution_count": 28,
   "metadata": {},
   "outputs": [
    {
     "name": "stdout",
     "output_type": "stream",
     "text": [
      "(9600, 1, 4, 4, 4)\n"
     ]
    }
   ],
   "source": [
    "facies_crops_4 = downsc_with_freq(facies_crops_8)\n",
    "print(facies_crops_4.shape)"
   ]
  },
  {
   "cell_type": "code",
   "execution_count": 29,
   "metadata": {},
   "outputs": [
    {
     "data": {
      "text/plain": [
       "<matplotlib.colorbar.Colorbar at 0x7f5b37aa1f28>"
      ]
     },
     "execution_count": 29,
     "metadata": {},
     "output_type": "execute_result"
    },
    {
     "data": {
      "image/png": "[encoded data removed]",
      "text/plain": [
       "<Figure size 432x288 with 2 Axes>"
      ]
     },
     "metadata": {},
     "output_type": "display_data"
    }
   ],
   "source": [
    "plt.imshow(facies_crops_4[124, 0, :, :, 2], vmax = 2, vmin = 0)\n",
    "plt.colorbar()"
   ]
  },
  {
   "cell_type": "code",
   "execution_count": null,
   "metadata": {
    "collapsed": true
   },
   "outputs": [],
   "source": []
  },
  {
   "cell_type": "code",
   "execution_count": null,
   "metadata": {
    "collapsed": true
   },
   "outputs": [],
   "source": []
  }
 ],
 "metadata": {
  "kernelspec": {
   "display_name": "Python 3",
   "language": "python",
   "name": "python3"
  },
  "language_info": {
   "codemirror_mode": {
    "name": "ipython",
    "version": 3
   },
   "file_extension": ".py",
   "mimetype": "text/x-python",
   "name": "python",
   "nbconvert_exporter": "python",
   "pygments_lexer": "ipython3",
   "version": "3.6.1"
  }
 },
 "nbformat": 4,
 "nbformat_minor": 2
}
