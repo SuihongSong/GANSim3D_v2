{
 "cells": [
  {
   "cell_type": "code",
   "execution_count": 1,
   "metadata": {
    "collapsed": true
   },
   "outputs": [],
   "source": [
    "%matplotlib inline\n",
    "import matplotlib.pyplot as plt\n",
    "import numpy as np\n",
    "import os"
   ]
  },
  {
   "cell_type": "markdown",
   "metadata": {},
   "source": [
    "#### 1. Read large conceptual geomodel files exported from Petrel and combine them together"
   ]
  },
  {
   "cell_type": "code",
   "execution_count": 2,
   "metadata": {
    "collapsed": true
   },
   "outputs": [],
   "source": [
    "# directory path of conceptual geomodel realizations. These conceptual models are simulated with object-based method in Petrel platform.\n",
    "# The conceptual geomodels are exported from Petrel directly as model properties (with Gslib format).\n",
    "# each file contain a number of conceptual geomodels. \n",
    "# In geomodels:  3-background mud faceis, 0-lobe facies, 4-channel facies.\n",
    "dirpath = '/scratch/users/suihong/SubwaterFan/LargeConceptualModelsfromPetrel/' \n"
   ]
  },
  {
   "cell_type": "code",
   "execution_count": 3,
   "metadata": {},
   "outputs": [
    {
     "name": "stdout",
     "output_type": "stream",
     "text": [
      "['concpts_all_from_Petrel']\n"
     ]
    },
    {
     "ename": "NameError",
     "evalue": "name 'allele' is not defined",
     "output_type": "error",
     "traceback": [
      "\u001b[0;31m---------------------------------------------------------------------------\u001b[0m",
      "\u001b[0;31mNameError\u001b[0m                                 Traceback (most recent call last)",
      "\u001b[0;32m<ipython-input-3-8ad37bad09b6>\u001b[0m in \u001b[0;36m<module>\u001b[0;34m()\u001b[0m\n\u001b[1;32m     26\u001b[0m                 \u001b[0mconcpts_file\u001b[0m\u001b[0;34m[\u001b[0m\u001b[0mi\u001b[0m\u001b[0;34m]\u001b[0m \u001b[0;34m=\u001b[0m \u001b[0mnp\u001b[0m\u001b[0;34m.\u001b[0m\u001b[0marray\u001b[0m\u001b[0;34m(\u001b[0m\u001b[0meles\u001b[0m\u001b[0;34m,\u001b[0m \u001b[0mdtype\u001b[0m\u001b[0;34m=\u001b[0m\u001b[0mnp\u001b[0m\u001b[0;34m.\u001b[0m\u001b[0mfloat32\u001b[0m\u001b[0;34m)\u001b[0m\u001b[0;34m.\u001b[0m\u001b[0mastype\u001b[0m\u001b[0;34m(\u001b[0m\u001b[0mnp\u001b[0m\u001b[0;34m.\u001b[0m\u001b[0mint8\u001b[0m\u001b[0;34m)\u001b[0m\u001b[0;34m[\u001b[0m\u001b[0;36m3\u001b[0m\u001b[0;34m:\u001b[0m\u001b[0;34m]\u001b[0m\u001b[0;34m\u001b[0m\u001b[0m\n\u001b[1;32m     27\u001b[0m \u001b[0;34m\u001b[0m\u001b[0m\n\u001b[0;32m---> 28\u001b[0;31m     \u001b[0mconcpt_no\u001b[0m \u001b[0;34m=\u001b[0m \u001b[0mlen\u001b[0m\u001b[0;34m(\u001b[0m\u001b[0mallele\u001b[0m\u001b[0;34m[\u001b[0m\u001b[0;36m0\u001b[0m\u001b[0;34m]\u001b[0m\u001b[0;34m)\u001b[0m\u001b[0;34m-\u001b[0m\u001b[0;36m3\u001b[0m \u001b[0;31m# number of conceptual models\u001b[0m\u001b[0;34m\u001b[0m\u001b[0m\n\u001b[0m\u001b[1;32m     29\u001b[0m     \u001b[0mconcpts_file\u001b[0m \u001b[0;34m=\u001b[0m \u001b[0mconcpts_file\u001b[0m\u001b[0;34m.\u001b[0m\u001b[0mreshape\u001b[0m\u001b[0;34m(\u001b[0m\u001b[0mcon_z_size\u001b[0m\u001b[0;34m,\u001b[0m \u001b[0mcon_x_size\u001b[0m\u001b[0;34m,\u001b[0m \u001b[0mcon_y_size\u001b[0m\u001b[0;34m,\u001b[0m \u001b[0mrlz_each_file\u001b[0m\u001b[0;34m)\u001b[0m\u001b[0;34m[\u001b[0m\u001b[0;34m:\u001b[0m\u001b[0;34m:\u001b[0m\u001b[0;34m-\u001b[0m\u001b[0;36m1\u001b[0m\u001b[0;34m,\u001b[0m\u001b[0;34m:\u001b[0m\u001b[0;34m:\u001b[0m\u001b[0;34m-\u001b[0m\u001b[0;36m1\u001b[0m\u001b[0;34m]\u001b[0m\u001b[0;34m.\u001b[0m\u001b[0mtranspose\u001b[0m\u001b[0;34m(\u001b[0m\u001b[0;36m3\u001b[0m\u001b[0;34m,\u001b[0m \u001b[0;36m1\u001b[0m\u001b[0;34m,\u001b[0m \u001b[0;36m2\u001b[0m\u001b[0;34m,\u001b[0m \u001b[0;36m0\u001b[0m\u001b[0;34m)\u001b[0m\u001b[0;34m\u001b[0m\u001b[0m\n\u001b[1;32m     30\u001b[0m     \u001b[0mconcpts_file\u001b[0m \u001b[0;34m=\u001b[0m \u001b[0mnp\u001b[0m\u001b[0;34m.\u001b[0m\u001b[0mwhere\u001b[0m\u001b[0;34m(\u001b[0m\u001b[0mconcpts_file\u001b[0m \u001b[0;34m==\u001b[0m \u001b[0;36m0\u001b[0m\u001b[0;34m,\u001b[0m \u001b[0;36m5\u001b[0m\u001b[0;34m,\u001b[0m \u001b[0mconcpts_file\u001b[0m\u001b[0;34m)\u001b[0m\u001b[0;34m-\u001b[0m\u001b[0;36m3\u001b[0m \u001b[0;31m# exchange code of levee and channels\u001b[0m\u001b[0;34m\u001b[0m\u001b[0m\n",
      "\u001b[0;31mNameError\u001b[0m: name 'allele' is not defined"
     ]
    }
   ],
   "source": [
    "rlz_no = 400\n",
    "con_x_size = 400\n",
    "con_y_size = 400\n",
    "con_z_size = 50\n",
    "rlz_each_file = 400  # the number of realizations contained in each file\n",
    "\n",
    "concpts = np.zeros((rlz_no, con_x_size, con_y_size, con_z_size), np.int8)  # shape [realizations, length, width, height]\n",
    "\n",
    "filenames = []\n",
    "for file in os.listdir(dirpath):\n",
    "    if file.startswith(\"concpts_all_from_Petrel\"):\n",
    "        filenames.append(file)\n",
    "filenames = sorted(filenames)\n",
    "\n",
    "print(filenames)\n",
    "\n",
    "file_no = 0\n",
    "for filename in filenames:\n",
    "    concpts_file = np.zeros((con_x_size * con_y_size * con_z_size, rlz_each_file), np.int8)\n",
    "    i = -1\n",
    "    with open (os.path.join(dirpath, filename)) as fl:\n",
    "        for line in fl:\n",
    "            eles = line.strip().split(' ')       \n",
    "            if len(eles)>=5:            \n",
    "                i = i + 1                \n",
    "                concpts_file[i] = np.array(eles, dtype=np.float32).astype(np.int8)[3:]\n",
    "                \n",
    "    # concpt_no = len(allele[0])-3 # number of conceptual models \n",
    "    concpts_file = concpts_file.reshape(con_z_size, con_x_size, con_y_size, rlz_each_file)[::-1,::-1].transpose(3, 1, 2, 0)\n",
    "    concpts_file = np.where(concpts_file == 0, 5, concpts_file)-3 # exchange code of levee and channels\n",
    "    concpts[file_no * rlz_each_file: (file_no + 1) * rlz_each_file] = concpts_file\n",
    "    file_no = file_no + 1"
   ]
  },
  {
   "cell_type": "code",
   "execution_count": 5,
   "metadata": {
    "scrolled": true
   },
   "outputs": [
    {
     "name": "stdout",
     "output_type": "stream",
     "text": [
      "<class 'numpy.int8'>\n",
      "(400, 400, 400, 50)\n"
     ]
    }
   ],
   "source": [
    "print(type(concpts[0, 0, 0, 0]))\n",
    "print(concpts.shape)"
   ]
  },
  {
   "cell_type": "code",
   "execution_count": 6,
   "metadata": {
    "scrolled": true
   },
   "outputs": [
    {
     "data": {
      "text/plain": [
       "<matplotlib.image.AxesImage at 0x7fa7c8bb8898>"
      ]
     },
     "execution_count": 6,
     "metadata": {},
     "output_type": "execute_result"
    },
    {
     "data": {
      "image/png": "[encoded data removed]",
      "text/plain": [
       "<Figure size 720x360 with 2 Axes>"
      ]
     },
     "metadata": {},
     "output_type": "display_data"
    }
   ],
   "source": [
    "fig, ax = plt.subplots(1, 2)\n",
    "fig.set_size_inches(10, 5, forward=True)\n",
    "ax[0].imshow(concpts[0, :, :, 0], cmap='gray')\n",
    "ax[1].imshow(concpts[0,-1,:,:].transpose(1,0), cmap='gray')"
   ]
  },
  {
   "cell_type": "markdown",
   "metadata": {},
   "source": [
    "#### 2. Save conceptual models into one int8 txt"
   ]
  },
  {
   "cell_type": "code",
   "execution_count": 7,
   "metadata": {
    "collapsed": true
   },
   "outputs": [],
   "source": [
    "concpts_int8_save = concpts.reshape(rlz_no, -1).transpose(1,0)  # shape of [-1, 400]\n",
    "\n",
    "concpts_all_int8_fname = dirpath + '/concpts_all_int8.txt'\n",
    "np.save(concpts_all_int8_fname, concpts_int8_save)   # , fmt='%i '*400  , newline='\\n'"
   ]
  },
  {
   "cell_type": "markdown",
   "metadata": {},
   "source": [
    "#### 3. Test the save int8 txt"
   ]
  },
  {
   "cell_type": "code",
   "execution_count": 8,
   "metadata": {},
   "outputs": [
    {
     "name": "stdout",
     "output_type": "stream",
     "text": [
      "(8000000, 400)\n",
      "(400, 400, 400, 50)\n"
     ]
    }
   ],
   "source": [
    "concpts_all_int8_load = np.load(dirpath + 'concpts_all_int8.txt.npy')\n",
    "print(concpts_all_int8_load.shape)\n",
    "\n",
    "concpts_all_int8_load_4D = concpts_all_int8_load.transpose(1,0).reshape(rlz_no, con_x_size, con_y_size, con_z_size)\n",
    "print(concpts_all_int8_load_4D.shape)"
   ]
  },
  {
   "cell_type": "code",
   "execution_count": 9,
   "metadata": {},
   "outputs": [
    {
     "data": {
      "text/plain": [
       "<matplotlib.image.AxesImage at 0x7fa7c8bb8588>"
      ]
     },
     "execution_count": 9,
     "metadata": {},
     "output_type": "execute_result"
    },
    {
     "data": {
      "image/png": "[encoded data removed]",
      "text/plain": [
       "<Figure size 720x360 with 2 Axes>"
      ]
     },
     "metadata": {},
     "output_type": "display_data"
    }
   ],
   "source": [
    "fig, ax = plt.subplots(1, 2)\n",
    "fig.set_size_inches(10, 5, forward=True)\n",
    "ax[0].imshow(concpts_all_int8_load_4D[1, :, :, 0], cmap='gray')\n",
    "ax[1].imshow(concpts_all_int8_load_4D[1,-1,:,:].transpose(1,0), cmap='gray')"
   ]
  },
  {
   "cell_type": "code",
   "execution_count": null,
   "metadata": {
    "collapsed": true
   },
   "outputs": [],
   "source": []
  }
 ],
 "metadata": {
  "kernelspec": {
   "display_name": "Python 3",
   "language": "python",
   "name": "python3"
  },
  "language_info": {
   "codemirror_mode": {
    "name": "ipython",
    "version": 3
   },
   "file_extension": ".py",
   "mimetype": "text/x-python",
   "name": "python",
   "nbconvert_exporter": "python",
   "pygments_lexer": "ipython3",
   "version": "3.6.1"
  }
 },
 "nbformat": 4,
 "nbformat_minor": 2
}
